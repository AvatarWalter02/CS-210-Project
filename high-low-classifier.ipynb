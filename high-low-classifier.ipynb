{
 "cells": [
  {
   "cell_type": "markdown",
   "metadata": {},
   "source": [
    "# Random Forest Exposure Classifier\n",
    "\n",
    "Using four input features—step count, active energy, basal energy, and walking speed—I developed a basic Random Forest classifier to predict the exposure type (high or low). \n",
    "\n",
    "While the model achieved unrealistically high accuracy, I will address this as a limitation in the report's \"Shortcomings and Improvements\" section, highlighting potential areas for refinement and future work.\n"
   ]
  },
  {
   "cell_type": "code",
   "execution_count": 4,
   "metadata": {},
   "outputs": [
    {
     "name": "stdout",
     "output_type": "stream",
     "text": [
      "               precision    recall  f1-score   support\n",
      "\n",
      " Low Exposure       1.00      1.00      1.00        44\n",
      "High Exposure       1.00      1.00      1.00        36\n",
      "\n",
      "     accuracy                           1.00        80\n",
      "    macro avg       1.00      1.00      1.00        80\n",
      " weighted avg       1.00      1.00      1.00        80\n",
      "\n"
     ]
    }
   ],
   "source": [
    "import pandas as pd\n",
    "import json\n",
    "from sklearn.model_selection import train_test_split\n",
    "from sklearn.ensemble import RandomForestClassifier\n",
    "from sklearn.metrics import classification_report\n",
    "\n",
    "# Load JSON data\n",
    "file_path = 'MergedExposureData.json'\n",
    "with open(file_path, 'r') as file:\n",
    "    data = json.load(file)\n",
    "\n",
    "# Convert the data to a DataFrame\n",
    "low_exposure_df = pd.DataFrame(data['low_exposure'])\n",
    "low_exposure_df['label'] = 0  # Label for low exposure\n",
    "\n",
    "high_exposure_df = pd.DataFrame(data['high_exposure'])\n",
    "high_exposure_df['label'] = 1  # Label for high exposure\n",
    "\n",
    "# Combine the datasets\n",
    "df = pd.concat([low_exposure_df, high_exposure_df], ignore_index=True)\n",
    "\n",
    "# Drop non-numeric and unnecessary columns\n",
    "df = df.drop(columns=['date', 'step count imputed', 'active energy burned imputed', \n",
    "                      'basal energy burned imputed', 'walking speed imputed'])\n",
    "\n",
    "# Prepare features and labels\n",
    "X = df.drop(columns=['label'])\n",
    "y = df['label']\n",
    "\n",
    "# Split the data\n",
    "X_train, X_test, y_train, y_test = train_test_split(X, y, test_size=0.2, random_state=42)\n",
    "\n",
    "# Train a Random Forest Classifier\n",
    "clf = RandomForestClassifier(random_state=42)\n",
    "clf.fit(X_train, y_train)\n",
    "\n",
    "# Predict and evaluate\n",
    "y_pred = clf.predict(X_test)\n",
    "report = classification_report(y_test, y_pred, target_names=['Low Exposure', 'High Exposure'])\n",
    "\n",
    "print(report)\n"
   ]
  }
 ],
 "metadata": {
  "kernelspec": {
   "display_name": "Python 3",
   "language": "python",
   "name": "python3"
  },
  "language_info": {
   "codemirror_mode": {
    "name": "ipython",
    "version": 3
   },
   "file_extension": ".py",
   "mimetype": "text/x-python",
   "name": "python",
   "nbconvert_exporter": "python",
   "pygments_lexer": "ipython3",
   "version": "3.12.0"
  }
 },
 "nbformat": 4,
 "nbformat_minor": 2
}
